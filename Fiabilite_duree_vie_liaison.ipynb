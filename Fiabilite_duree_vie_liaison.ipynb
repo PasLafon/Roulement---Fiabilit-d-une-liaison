{
 "cells": [
  {
   "cell_type": "markdown",
   "metadata": {},
   "source": [
    "# TD TN20 : Roulements\n",
    "## Fiabilité et durée de vie"
   ]
  },
  {
   "cell_type": "markdown",
   "metadata": {},
   "source": [
    "#### Faibilité d'une liaison de 3 roulements pour une durée de vie donnée."
   ]
  },
  {
   "cell_type": "markdown",
   "metadata": {},
   "source": [
    "La durée de vie en millions de tours  $L_i$ pour une fiabilité $f_i$, calculée à partir de $L_{10}$, la fiabilité à 90% ($f_{10}=0.9$) vaut :"
   ]
  },
  {
   "cell_type": "markdown",
   "metadata": {},
   "source": [
    "$$\n",
    "L_{10}=a_\\text{SKF}\\left(\\frac{\\delta_\\theta C}{P}\\right)^n \\Rightarrow L_i=\\left(\\frac{\\ln f_i}{\\ln 0.9}\\right)^\\frac{2}{3}L_{10}\n",
    "$$"
   ]
  },
  {
   "cell_type": "markdown",
   "metadata": {},
   "source": [
    "Donc la fiabilité $f_i$ en fonction de  $L_i$ s'écrit :"
   ]
  },
  {
   "cell_type": "markdown",
   "metadata": {},
   "source": [
    "$$\n",
    "f_i=\\exp\\left[\\left(\\frac{L_i}{L_{10}}\\right)^\\frac{3}{2}\\ln 0.9\\right]\n",
    "$$"
   ]
  },
  {
   "cell_type": "markdown",
   "metadata": {},
   "source": [
    "Ici la liaison doit fonctionner $L_\\text{Liaison}$ millions de tours donc :"
   ]
  },
  {
   "cell_type": "markdown",
   "metadata": {},
   "source": [
    "$$\n",
    "f_i=\\exp\\left[\\left(\\frac{L_\\text{Liaison}}{L_{10}}\\right)^\\frac{3}{2}\\ln 0.9\\right]\n",
    "$$"
   ]
  },
  {
   "cell_type": "markdown",
   "metadata": {},
   "source": [
    "Calcul des fiabilités $f_i$ de chaque roulement :"
   ]
  },
  {
   "cell_type": "code",
   "execution_count": 16,
   "metadata": {},
   "outputs": [
    {
     "name": "stdout",
     "output_type": "stream",
     "text": [
      "Durée de vie de 10000 h millions de tours : 900\n",
      "              |       C |      C0 |     L10 |     f\n",
      "Rlt. billes 1 |   21600 |    1800 |    1728 | 0.9612\n",
      "Rlt. billes 2 |   15000 |    1000 |    3375 | 0.9856\n",
      "Rlt. rouleaux |   27000 |    2000 |    5858 | 0.9937\n"
     ]
    }
   ],
   "source": [
    "import numpy as np\n",
    "# Listes des caractéristiques des roulements de la liaison :\n",
    "LC = [21600,15000,27000]\n",
    "LP = [1800,1000,2000]\n",
    "Ln  = [3,3,10/3]\n",
    "LNom = ['Rlt. billes 1','Rlt. billes 2','Rlt. rouleaux']\n",
    "\n",
    "Lh = 10000          # Durée de vie en heures.\n",
    "L = Lh*1500*60/1e6  # Durée en million de tours pour 1500 tr/min.\n",
    "print('Durée de vie de %.f h millions de tours : %.0f'%(Lh,L))\n",
    "\n",
    "# Initialise 2 listes vides.\n",
    "LL10 = []  \n",
    "Lf = []\n",
    "\n",
    "# Pour tous les roulements de la liaison :\n",
    "print('%13s | %7s | %7s | %7s | %5s'%(' ','C','C0','L10','f'))\n",
    "for C,P,n,Nom in zip(LC,LP,Ln,LNom):\n",
    "    L10 = (C/P)**n\n",
    "    f = np.exp((L/L10)**(3/2)*np.log(0.9))\n",
    "    LL10.append(L10)\n",
    "    Lf.append(f)\n",
    "    print('%13s | %7.f | %7.f | %7.f | %.4f'%(Nom,C,P,L10,f))\n",
    "    \n",
    "# Transforme listes en vecteurs ..    \n",
    "LL10 = np.array(LL10)\n",
    "Lf = np.array(Lf)"
   ]
  },
  {
   "cell_type": "markdown",
   "metadata": {},
   "source": [
    "La fiabilité de la liaison est le produit des fiabilités des roulements :"
   ]
  },
  {
   "cell_type": "markdown",
   "metadata": {},
   "source": [
    "$$\n",
    "f_\\text{Liaison}=\\prod\\limits_{i=1}^{3}f_i\n",
    "$$"
   ]
  },
  {
   "cell_type": "code",
   "execution_count": 17,
   "metadata": {},
   "outputs": [
    {
     "name": "stdout",
     "output_type": "stream",
     "text": [
      "Fiabilité de la liaison : 94.13%\n"
     ]
    }
   ],
   "source": [
    "print('Fiabilité de la liaison : %.2f%%'%(np.prod(Lf)*100))"
   ]
  },
  {
   "cell_type": "markdown",
   "metadata": {},
   "source": [
    "#### Durée de vie de la liaison pour une fiabilité souhaitée de 98% :"
   ]
  },
  {
   "cell_type": "markdown",
   "metadata": {},
   "source": [
    "$$\n",
    "f_\\text{Liaison}=\\prod\\limits_{i=1}^{3}f_i \\Rightarrow f_\\text{Liaison}=\\prod\\limits_{i=1}^{3}\\exp\\left[\\left(\\frac{L_\\text{Liaison}}{L_{10i}}\\right)^\\frac{3}{2}\\ln 0.9\\right]=\\exp\\left[\\sum\\limits_{i=1}^{3}\\left[\\left(\\frac{L_\\text{Liaison}}{L_{10i}}\\right)^\\frac{3}{2}\\ln 0.9\\right]\\right]\n",
    "$$"
   ]
  },
  {
   "cell_type": "markdown",
   "metadata": {},
   "source": [
    "Ici on utilise la prorpriété des exponentielles : $\\exp{a}.\\exp{b}=\\exp{(a+b)}$"
   ]
  },
  {
   "cell_type": "markdown",
   "metadata": {},
   "source": [
    "$$\n",
    "\\ln\\left(f_\\text{Liaison}\\right)=\\sum\\limits_{i=1}^{3}\\left[\\left(\\frac{L_\\text{Liaison}}{L_{10i}}\\right)^\\frac{3}{2}\\ln 0.9\\right]\n",
    "={L_\\text{Liaison}}^\\frac{3}{2}.\\ln 0.9 \\sum\\limits_{i=1}^{3}{L_{10i}}^{-\\frac{3}{2}}\n",
    "$$"
   ]
  },
  {
   "cell_type": "markdown",
   "metadata": {},
   "source": [
    "$$\n",
    "L_\\text{Liaison} = \\left[\\frac{\\ln\\left(f_\\text{Liaison}\\right)}{\\ln 0.9\\sum\\limits_{i=1}^{3}{L_{10i}}^{-\\frac{3}{2}}} \\right]^\\frac{2}{3}\n",
    "$$"
   ]
  },
  {
   "cell_type": "code",
   "execution_count": 18,
   "metadata": {},
   "outputs": [
    {
     "name": "stdout",
     "output_type": "stream",
     "text": [
      "Durée de vie de la liaison pour 98% de fiabilité : 4815.57 h\n"
     ]
    }
   ],
   "source": [
    "sumL10 = np.sum(L10l**(-3/2))\n",
    "L = ( np.log(0.98)/(np.log(0.9)*sumL10) )**(2/3)\n",
    "Lh = L*1e6/(1500*60)\n",
    "print('Durée de vie de la liaison pour 98%% de fiabilité : %.2f h'%Lh)"
   ]
  }
 ],
 "metadata": {
  "kernelspec": {
   "display_name": "Python 3",
   "language": "python",
   "name": "python3"
  },
  "language_info": {
   "codemirror_mode": {
    "name": "ipython",
    "version": 3
   },
   "file_extension": ".py",
   "mimetype": "text/x-python",
   "name": "python",
   "nbconvert_exporter": "python",
   "pygments_lexer": "ipython3",
   "version": "3.7.7"
  }
 },
 "nbformat": 4,
 "nbformat_minor": 4
}
